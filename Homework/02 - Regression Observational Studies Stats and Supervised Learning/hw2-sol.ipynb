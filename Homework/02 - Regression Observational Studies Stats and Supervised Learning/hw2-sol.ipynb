{
 "cells": [
  {
   "cell_type": "markdown",
   "metadata": {
    "collapsed": true,
    "pycharm": {
     "name": "#%% md\n"
    }
   },
   "source": [
    "# Homework 2 (HW2)\n",
    "\n",
    "---\n",
    "By the end of this homework we expect you to be able to:\n",
    "1. Preprocess data and make it amenable to statistical analysis and machine learning models;\n",
    "2. Train and test out-of-the-box machine learning models in Python;\n",
    "3. Carry out statistical hypothesis testing;\n",
    "4. Carry out simple multivariate regression analyses;\n",
    "5. Use techniques to control for covariates;\n",
    "\n",
    "---\n",
    "\n",
    "## Important Dates\n",
    "\n",
    "- Homework release: Fri 12 Nov 2021\n",
    "- **Homework due**: Fri 26 Nov 2021, 23:59\n",
    "- Grade release: Fri 03 Dec 2021\n",
    "\n",
    "---\n",
    "\n",
    "##  Some rules\n",
    "\n",
    "1. You are allowed to use any built-in Python library that comes with Anaconda. If you want to use an external library, \n",
    "you may do so, but must justify your choice.\n",
    "2. Make sure you use the `data` folder provided in the repository in read-only mode. (Or alternatively, be sure you \n",
    "don’t change any of the files.)\n",
    "3. Be sure to provide a textual description of your thought process, the assumptions you made, the solution you \n",
    "implemented, and explanations for your answers. A notebook that only has code cells will not suffice.\n",
    "4. For questions containing the **/Discuss:/** prefix, answer not with code, but with a textual explanation\n",
    " (**in markdown**).\n",
    "5. Back up any hypotheses and claims with data, since this is an important aspect of the course.\n",
    "6. Please write all your comments in English, and use meaningful variable names in your code. Your repo should have a \n",
    "single notebook (plus the required data files) in the *master/main* branch. If there are multiple notebooks present, \n",
    "we will **not grade** anything.\n",
    "7. We will **not run your notebook for you**! Rather, we will grade it as is, which means that only the results \n",
    "contained in your evaluated code cells will be considered, and we will not see the results in unevaluated code cells. \n",
    "Thus, be sure to hand in a **fully-run and evaluated notebook**. In order to check whether everything looks as intended, you can check the rendered notebook on the GitHub website once you have pushed your solution there.\n",
    "8. In continuation to the previous point, interactive plots, such as those generated using `plotly`, should be **strictly avoided**!\n",
    "9. Make sure to print results or dataframes that confirm you have properly addressed the task.\n",
    "\n",
    "---\n",
    "\n",
    "## Context\n",
    "\n",
    "Congratulations! You have just been hired as a data scientist at *Piccardi Music,* a promising new music label created by a mysterious Italian disc jockey \"*Signor Piccardi*\". The company hired you to carry out a variety of data-related tasks, which will be explained in further detail below.\n",
    "\n",
    "---\n",
    "\n",
    "## The data\n",
    "\n",
    "For this homework you will use a dataset of 18,403 music reviews scraped from Pitchfork¹, including relevant metadata such as review author, review date, record release year, review score, and genre, along with the respective album's audio features pulled from Spotify's API. The data consists of the following columns:\n",
    "\n",
    "| Column   | Description  |\n",
    "|----------|:-------------|\n",
    "| `artist`           | The name of the artist who created the album being reviewed. |\n",
    "| `album`            | The name of the album being reviewed. |\n",
    "| `recordlabel`      | The name of the record label(s) who published the album. |\n",
    "| `releaseyear`      | The year that the album was released. |\n",
    "| `score`            | The score given to the album by the reviewer on a scale of 0.0 to 10.0. |\n",
    "| `reviewauthor`     | The name of the author who reviewed the album. |\n",
    "| `genre`            | The genre assigned to the album by Pitchfork. |\n",
    "| `reviewdate`       | The date that the review was published.  |\n",
    "| `key` | The estimated overall musical key of the track. Integers map to pitches using standard Pitch Class notation (e.g., 0 = C, 2 = D, and so on) |\n",
    "| `acousticness` | A confidence measure from 0.0 to 1.0 of whether an album is acoustic. 1.0 represents high confidencethat the album is acoustic. |\n",
    "| `danceability` | How suitable an album is for dancing based on a combination of musical elements including tempo, rhythm stability, beat strength, and overall regularity. A value of 1.0 is most danceable.\n",
    "| `energy` | A perceptual measure of intensity and activity, from 0.0 to 1.0, where 1.0 represents high energy. Metal is often high energy. |\n",
    "| `instrumentalness` | Predicts whether an album contains no vocals, from 0.0 to 1.0. The closer to 1.0, the more likely the album contains no vocals. |\n",
    "| `liveness` | Detects the presence of an audience, from 0.0 to 1.0. Scores greater than 0.8 indicate a strong likelihood the album is live. |\n",
    "| `loudness` | The overall loudness of the album in decibels (dB). |\n",
    "| `speechiness` | Measures the presence of spoken words in an album on a scale from 0.0 to 1.0. Scores higher than 0.66 indicate an album made entirely of spoken words, while scores below 0.33 indicate music and other non-speech-like elements. |\n",
    "| `valence` | A measure from 0.0 to 1.0 describing the musical positiveness conveyed by an album, where values closer to 1.0 indicate more positive sounds. |\n",
    "| `tempo` | The overall estimated tempo of an album in beats per minute (BPM). |\n",
    "\n",
    "¹Pinter, Anthony T., et al. \"P4KxSpotify: A Dataset of Pitchfork Music Reviews and Spotify Musical Features.\" Proceedings of the International AAAI Conference on Web and Social Media. Vol. 14. 2020."
   ]
  },
  {
   "cell_type": "code",
   "execution_count": 27,
   "metadata": {},
   "outputs": [],
   "source": [
    "import pandas as pd\n",
    "import matplotlib.pyplot as plt\n",
    "from matplotlib import ticker\n",
    "\n",
    "import seaborn as sns\n",
    "import numpy as np\n",
    "import scipy\n",
    "import itertools\n",
    "\n",
    "# datetime operations\n",
    "from datetime import datetime\n",
    "\n",
    "# multiprocessing\n",
    "from joblib import Parallel, delayed\n",
    "\n",
    "# ttest and euclidean distance\n",
    "from scipy.stats import ttest_ind\n",
    "from scipy.spatial.distance import seuclidean\n",
    "\n",
    "# linear fit using statsmodels\n",
    "import statsmodels.api as sm\n",
    "import statsmodels.formula.api as smf\n",
    "\n",
    "# good ole sklearn\n",
    "from sklearn.base import BaseEstimator, ClassifierMixin, RegressorMixin\n",
    "from sklearn.utils.validation import check_X_y, check_array, check_is_fitted\n",
    "from sklearn.utils.multiclass import unique_labels\n",
    "from sklearn.metrics import euclidean_distances, r2_score\n",
    "from sklearn.model_selection import train_test_split, KFold\n",
    "from sklearn.preprocessing import StandardScaler\n",
    "from sklearn.linear_model import LinearRegression\n",
    "from sklearn.ensemble import GradientBoostingRegressor\n",
    "\n",
    "# displaying markdown strings\n",
    "from IPython.display import display, Markdown, Latex\n",
    "\n",
    "sns.set_style('whitegrid')"
   ]
  },
  {
   "cell_type": "markdown",
   "metadata": {
    "pycharm": {
     "name": "#%%\n"
    }
   },
   "source": [
    "## Part 1: Will this album be a hit?\n",
    "\n",
    "The first project you embark on in your new job is to build a regressor to predict whether an album will be well received or not. According to *Signor Piccardi* (your boss), this algorithm may eventually be helpful in forecasting the success of albums produced by *Piccardi Music*."
   ]
  },
  {
   "cell_type": "markdown",
   "metadata": {},
   "source": [
    "**Task 1 (Initial analyses — 10 pts)**\n",
    "\n",
    "As a good data scientist, the first thing you do is to have a good look at the data that was handed to you.\n",
    "\n",
    "1. Load the data using `pandas`. Identify and remove duplicate reviews, i.e., two reviews with albums by the same band with the same name (keep the first occurrence). Print the number of rows in your dataframe.\n",
    "\n",
    "2. Plot the distribution of album release years and the average score of albums per year.\n",
    "\n",
    "3. For numerical columns, calculate the mean, median, minimum value and maximum value. Additionally, plot the distribution for all the numerical columns in a single image (possibly with multiple subplots). Your image should be at most 14 inches wide by 14 inches long.\n",
    "\n",
    "3. For categorical columns, list how many different values there are in each column. If there are less than 10 distinct values for a category, print them all. For the `genre` column, assign the value `'Other'` for albums where the value is either `'none'` or `NaN`.\n",
    "\n",
    "5. **Discuss:** This dataset was built with *found data*—i.e., the Pitchfork reviews were not made with the goal of training a machine learning model. Grounded on the previous analyses and in Pitchfork's [Wikipedia page](https://en.wikipedia.org/wiki/Pitchfork_(website)), point **three** (exactly!) ways in which this data may not be representative of music albums in general due to the way the data was collected. \n",
    "\n",
    "---"
   ]
  },
  {
   "cell_type": "code",
   "execution_count": 28,
   "metadata": {},
   "outputs": [
    {
     "name": "stdout",
     "output_type": "stream",
     "text": [
      "Num. rows: 16738\n"
     ]
    },
    {
     "data": {
      "text/html": [
       "<div>\n",
       "<style scoped>\n",
       "    .dataframe tbody tr th:only-of-type {\n",
       "        vertical-align: middle;\n",
       "    }\n",
       "\n",
       "    .dataframe tbody tr th {\n",
       "        vertical-align: top;\n",
       "    }\n",
       "\n",
       "    .dataframe thead th {\n",
       "        text-align: right;\n",
       "    }\n",
       "</style>\n",
       "<table border=\"1\" class=\"dataframe\">\n",
       "  <thead>\n",
       "    <tr style=\"text-align: right;\">\n",
       "      <th></th>\n",
       "      <th>artist</th>\n",
       "      <th>album</th>\n",
       "      <th>reviewauthor</th>\n",
       "      <th>score</th>\n",
       "      <th>releaseyear</th>\n",
       "      <th>reviewdate</th>\n",
       "      <th>recordlabel</th>\n",
       "      <th>genre</th>\n",
       "      <th>danceability</th>\n",
       "      <th>energy</th>\n",
       "      <th>key</th>\n",
       "      <th>loudness</th>\n",
       "      <th>speechiness</th>\n",
       "      <th>acousticness</th>\n",
       "      <th>instrumentalness</th>\n",
       "      <th>liveness</th>\n",
       "      <th>valence</th>\n",
       "      <th>tempo</th>\n",
       "    </tr>\n",
       "  </thead>\n",
       "  <tbody>\n",
       "    <tr>\n",
       "      <th>0</th>\n",
       "      <td>Studio 1</td>\n",
       "      <td>Studio 1</td>\n",
       "      <td>Andy Battaglia</td>\n",
       "      <td>8.5</td>\n",
       "      <td>2009.0</td>\n",
       "      <td>February 18 2009</td>\n",
       "      <td>Studio</td>\n",
       "      <td>Electronic</td>\n",
       "      <td>0.511917</td>\n",
       "      <td>0.499667</td>\n",
       "      <td>5.250000</td>\n",
       "      <td>-5.626583</td>\n",
       "      <td>0.031983</td>\n",
       "      <td>0.724917</td>\n",
       "      <td>0.024493</td>\n",
       "      <td>0.165367</td>\n",
       "      <td>0.555083</td>\n",
       "      <td>101.395167</td>\n",
       "    </tr>\n",
       "    <tr>\n",
       "      <th>1</th>\n",
       "      <td>John Fahey</td>\n",
       "      <td>The Great Santa Barbara Oil Slick</td>\n",
       "      <td>Mark Richardson</td>\n",
       "      <td>8.2</td>\n",
       "      <td>2005.0</td>\n",
       "      <td>February 13 2005</td>\n",
       "      <td>Water</td>\n",
       "      <td>Folk/Country</td>\n",
       "      <td>0.369765</td>\n",
       "      <td>0.325412</td>\n",
       "      <td>4.470588</td>\n",
       "      <td>-19.153824</td>\n",
       "      <td>0.148624</td>\n",
       "      <td>0.647053</td>\n",
       "      <td>0.559133</td>\n",
       "      <td>0.527782</td>\n",
       "      <td>0.179465</td>\n",
       "      <td>107.622647</td>\n",
       "    </tr>\n",
       "    <tr>\n",
       "      <th>2</th>\n",
       "      <td>Reigning Sound</td>\n",
       "      <td>Too Much Guitar</td>\n",
       "      <td>Stephen M. Deusner</td>\n",
       "      <td>8.3</td>\n",
       "      <td>2004.0</td>\n",
       "      <td>August 19 2004</td>\n",
       "      <td>In the Red</td>\n",
       "      <td>Electronic</td>\n",
       "      <td>0.253943</td>\n",
       "      <td>0.912857</td>\n",
       "      <td>4.428571</td>\n",
       "      <td>-1.089500</td>\n",
       "      <td>0.055500</td>\n",
       "      <td>0.000253</td>\n",
       "      <td>0.751214</td>\n",
       "      <td>0.199071</td>\n",
       "      <td>0.552786</td>\n",
       "      <td>133.895500</td>\n",
       "    </tr>\n",
       "    <tr>\n",
       "      <th>3</th>\n",
       "      <td>The Red Thread</td>\n",
       "      <td>After the Last</td>\n",
       "      <td>Chris Dahlen</td>\n",
       "      <td>7.3</td>\n",
       "      <td>2003.0</td>\n",
       "      <td>July 17 2003</td>\n",
       "      <td>Badman</td>\n",
       "      <td>Rock</td>\n",
       "      <td>0.425400</td>\n",
       "      <td>0.433474</td>\n",
       "      <td>5.700000</td>\n",
       "      <td>-12.871000</td>\n",
       "      <td>0.028260</td>\n",
       "      <td>0.310325</td>\n",
       "      <td>0.224137</td>\n",
       "      <td>0.125150</td>\n",
       "      <td>0.451400</td>\n",
       "      <td>104.354200</td>\n",
       "    </tr>\n",
       "    <tr>\n",
       "      <th>4</th>\n",
       "      <td>Mac Miller</td>\n",
       "      <td>Swimming</td>\n",
       "      <td>Evan Rytlewski</td>\n",
       "      <td>7.5</td>\n",
       "      <td>2018.0</td>\n",
       "      <td>August 3 2018</td>\n",
       "      <td>Warner Bros.</td>\n",
       "      <td>Rap</td>\n",
       "      <td>0.624846</td>\n",
       "      <td>0.438154</td>\n",
       "      <td>4.153846</td>\n",
       "      <td>-9.456077</td>\n",
       "      <td>0.170246</td>\n",
       "      <td>0.652462</td>\n",
       "      <td>0.012819</td>\n",
       "      <td>0.121131</td>\n",
       "      <td>0.281138</td>\n",
       "      <td>122.121308</td>\n",
       "    </tr>\n",
       "  </tbody>\n",
       "</table>\n",
       "</div>"
      ],
      "text/plain": [
       "           artist                              album        reviewauthor  \\\n",
       "0        Studio 1                           Studio 1      Andy Battaglia   \n",
       "1      John Fahey  The Great Santa Barbara Oil Slick     Mark Richardson   \n",
       "2  Reigning Sound                    Too Much Guitar  Stephen M. Deusner   \n",
       "3  The Red Thread                     After the Last        Chris Dahlen   \n",
       "4      Mac Miller                           Swimming      Evan Rytlewski   \n",
       "\n",
       "   score  releaseyear        reviewdate   recordlabel         genre  \\\n",
       "0    8.5       2009.0  February 18 2009        Studio    Electronic   \n",
       "1    8.2       2005.0  February 13 2005         Water  Folk/Country   \n",
       "2    8.3       2004.0    August 19 2004    In the Red    Electronic   \n",
       "3    7.3       2003.0      July 17 2003        Badman          Rock   \n",
       "4    7.5       2018.0     August 3 2018  Warner Bros.           Rap   \n",
       "\n",
       "   danceability    energy       key   loudness  speechiness  acousticness  \\\n",
       "0      0.511917  0.499667  5.250000  -5.626583     0.031983      0.724917   \n",
       "1      0.369765  0.325412  4.470588 -19.153824     0.148624      0.647053   \n",
       "2      0.253943  0.912857  4.428571  -1.089500     0.055500      0.000253   \n",
       "3      0.425400  0.433474  5.700000 -12.871000     0.028260      0.310325   \n",
       "4      0.624846  0.438154  4.153846  -9.456077     0.170246      0.652462   \n",
       "\n",
       "   instrumentalness  liveness   valence       tempo  \n",
       "0          0.024493  0.165367  0.555083  101.395167  \n",
       "1          0.559133  0.527782  0.179465  107.622647  \n",
       "2          0.751214  0.199071  0.552786  133.895500  \n",
       "3          0.224137  0.125150  0.451400  104.354200  \n",
       "4          0.012819  0.121131  0.281138  122.121308  "
      ]
     },
     "execution_count": 28,
     "metadata": {},
     "output_type": "execute_result"
    }
   ],
   "source": [
    "# 1.1\n",
    "\n",
    "pitchfork = pd.read_csv('./data/pitchfork.csv.gz')\n",
    "pitchfork = pitchfork.drop_duplicates(subset=[\"album\", \"artist\"], keep=\"first\")\n",
    "print(\"Num. rows: \" + str(len(pitchfork)))\n",
    "pitchfork.head()"
   ]
  },
  {
   "cell_type": "code",
   "execution_count": 29,
   "metadata": {},
   "outputs": [],
   "source": [
    "numeric_cols = ['score', 'releaseyear', 'danceability', 'energy', 'key',\n",
    "       'speechiness', 'acousticness', 'instrumentalness', 'liveness',\n",
    "       'valence', 'tempo']\n",
    "for i in numeric_cols:\n",
    "    pitchfork = pitchfork.loc[pitchfork[i] != -1].copy(deep=True)\n"
   ]
  },
  {
   "cell_type": "code",
   "execution_count": 30,
   "metadata": {},
   "outputs": [
    {
     "data": {
      "image/png": "[encoded data removed]",
      "text/plain": [
       "<Figure size 1080x432 with 2 Axes>"
      ]
     },
     "metadata": {},
     "output_type": "display_data"
    }
   ],
   "source": [
    "# 1.2\n",
    "\n",
    "pitchfork['reviewdate'] = pd.to_datetime(pitchfork['reviewdate'], format='%B %d %Y')\n",
    "pitchfork['releaseyear'] = pd.to_datetime(pitchfork['releaseyear'], format='%Y')\n",
    "pitchfork['releaseyear_notutc'] = pitchfork.releaseyear.dt.year\n",
    "\n",
    "fig, axs = plt.subplots(2, \n",
    "                        figsize=(15,6), \n",
    "                        gridspec_kw={\"hspace\": 0.5}, # increases vertical spacing a bit\n",
    "                        sharex=False)\n",
    "\n",
    "# Plot distribution of album release years\n",
    "ax = axs[0]\n",
    "ax = sns.countplot(data=pitchfork, x='releaseyear_notutc',  ax=ax)\n",
    "ax.set(title='Distribution of album releases per year', xlabel='Year')\n",
    "ax.set_yscale(\"log\") # log scale!\n",
    "\n",
    "# fixes the x-axis!\n",
    "ax.xaxis.set_major_formatter(lambda x, pos: str(int(x) + 1957))\n",
    "ax.set_xticks([3, 13, 23, 33, 43, 53])\n",
    "ax.tick_params(axis='x', rotation=0)\n",
    "\n",
    "\n",
    "# ... and average score of albums per year\n",
    "ax = axs[1]\n",
    "ax = sns.barplot(data=pitchfork, x='releaseyear_notutc', y='score', ci=95, ax=ax)\n",
    "ax.xaxis.set_major_formatter(lambda x, pos: str(int(x) + 1957))\n",
    "\n",
    "# fixes the x-axis!\n",
    "ax.set_xticks([3, 13, 23, 33, 43, 53])\n",
    "ax.set(title='Average score per year (with 95% ci)', xlabel='Year', ylabel='Score')\n",
    "ax.tick_params(axis='x', rotation=0)\n",
    "\n",
    "plt.show();"
   ]
  },
  {
   "cell_type": "code",
   "execution_count": 31,
   "metadata": {},
   "outputs": [
    {
     "data": {
      "image/png": "[encoded data removed]",
      "text/plain": [
       "<Figure size 720x720 with 12 Axes>"
      ]
     },
     "metadata": {},
     "output_type": "display_data"
    },
    {
     "data": {
      "text/html": [
       "<div>\n",
       "<style scoped>\n",
       "    .dataframe tbody tr th:only-of-type {\n",
       "        vertical-align: middle;\n",
       "    }\n",
       "\n",
       "    .dataframe tbody tr th {\n",
       "        vertical-align: top;\n",
       "    }\n",
       "\n",
       "    .dataframe thead th {\n",
       "        text-align: right;\n",
       "    }\n",
       "</style>\n",
       "<table border=\"1\" class=\"dataframe\">\n",
       "  <thead>\n",
       "    <tr style=\"text-align: right;\">\n",
       "      <th></th>\n",
       "      <th>count</th>\n",
       "      <th>mean</th>\n",
       "      <th>std</th>\n",
       "      <th>min</th>\n",
       "      <th>25%</th>\n",
       "      <th>50%</th>\n",
       "      <th>75%</th>\n",
       "      <th>max</th>\n",
       "    </tr>\n",
       "  </thead>\n",
       "  <tbody>\n",
       "    <tr>\n",
       "      <th>score</th>\n",
       "      <td>16731.0</td>\n",
       "      <td>7.048563</td>\n",
       "      <td>1.247042</td>\n",
       "      <td>0.000000</td>\n",
       "      <td>6.500000</td>\n",
       "      <td>7.300000</td>\n",
       "      <td>7.800000</td>\n",
       "      <td>10.000</td>\n",
       "    </tr>\n",
       "    <tr>\n",
       "      <th>danceability</th>\n",
       "      <td>16731.0</td>\n",
       "      <td>0.512967</td>\n",
       "      <td>0.155850</td>\n",
       "      <td>0.038667</td>\n",
       "      <td>0.409000</td>\n",
       "      <td>0.511364</td>\n",
       "      <td>0.622700</td>\n",
       "      <td>0.974</td>\n",
       "    </tr>\n",
       "    <tr>\n",
       "      <th>energy</th>\n",
       "      <td>16731.0</td>\n",
       "      <td>0.601946</td>\n",
       "      <td>0.200580</td>\n",
       "      <td>0.000126</td>\n",
       "      <td>0.474182</td>\n",
       "      <td>0.624800</td>\n",
       "      <td>0.749732</td>\n",
       "      <td>0.999</td>\n",
       "    </tr>\n",
       "    <tr>\n",
       "      <th>key</th>\n",
       "      <td>16731.0</td>\n",
       "      <td>5.219102</td>\n",
       "      <td>1.609161</td>\n",
       "      <td>0.000000</td>\n",
       "      <td>4.333333</td>\n",
       "      <td>5.230769</td>\n",
       "      <td>6.100000</td>\n",
       "      <td>11.000</td>\n",
       "    </tr>\n",
       "    <tr>\n",
       "      <th>loudness</th>\n",
       "      <td>16731.0</td>\n",
       "      <td>-9.286734</td>\n",
       "      <td>4.235869</td>\n",
       "      <td>-51.728750</td>\n",
       "      <td>-11.218202</td>\n",
       "      <td>-8.445300</td>\n",
       "      <td>-6.396427</td>\n",
       "      <td>4.078</td>\n",
       "    </tr>\n",
       "    <tr>\n",
       "      <th>speechiness</th>\n",
       "      <td>16731.0</td>\n",
       "      <td>0.091199</td>\n",
       "      <td>0.087339</td>\n",
       "      <td>-0.058236</td>\n",
       "      <td>0.040645</td>\n",
       "      <td>0.056673</td>\n",
       "      <td>0.100279</td>\n",
       "      <td>0.958</td>\n",
       "    </tr>\n",
       "    <tr>\n",
       "      <th>acousticness</th>\n",
       "      <td>16731.0</td>\n",
       "      <td>0.302459</td>\n",
       "      <td>0.261092</td>\n",
       "      <td>0.000001</td>\n",
       "      <td>0.091182</td>\n",
       "      <td>0.229000</td>\n",
       "      <td>0.460720</td>\n",
       "      <td>0.996</td>\n",
       "    </tr>\n",
       "    <tr>\n",
       "      <th>instrumentalness</th>\n",
       "      <td>16731.0</td>\n",
       "      <td>0.275281</td>\n",
       "      <td>0.297830</td>\n",
       "      <td>-0.085783</td>\n",
       "      <td>0.009683</td>\n",
       "      <td>0.149620</td>\n",
       "      <td>0.497540</td>\n",
       "      <td>0.982</td>\n",
       "    </tr>\n",
       "    <tr>\n",
       "      <th>liveness</th>\n",
       "      <td>16731.0</td>\n",
       "      <td>0.196902</td>\n",
       "      <td>0.102061</td>\n",
       "      <td>0.015300</td>\n",
       "      <td>0.134545</td>\n",
       "      <td>0.174294</td>\n",
       "      <td>0.228350</td>\n",
       "      <td>0.978</td>\n",
       "    </tr>\n",
       "    <tr>\n",
       "      <th>valence</th>\n",
       "      <td>16731.0</td>\n",
       "      <td>0.405856</td>\n",
       "      <td>0.180050</td>\n",
       "      <td>0.000010</td>\n",
       "      <td>0.274400</td>\n",
       "      <td>0.406300</td>\n",
       "      <td>0.531811</td>\n",
       "      <td>0.971</td>\n",
       "    </tr>\n",
       "    <tr>\n",
       "      <th>tempo</th>\n",
       "      <td>16731.0</td>\n",
       "      <td>120.377248</td>\n",
       "      <td>15.285317</td>\n",
       "      <td>23.983333</td>\n",
       "      <td>111.255567</td>\n",
       "      <td>120.409133</td>\n",
       "      <td>129.146225</td>\n",
       "      <td>215.972</td>\n",
       "    </tr>\n",
       "    <tr>\n",
       "      <th>releaseyear_notutc</th>\n",
       "      <td>16731.0</td>\n",
       "      <td>2009.345765</td>\n",
       "      <td>7.796465</td>\n",
       "      <td>1957.000000</td>\n",
       "      <td>2005.000000</td>\n",
       "      <td>2010.000000</td>\n",
       "      <td>2015.000000</td>\n",
       "      <td>2019.000</td>\n",
       "    </tr>\n",
       "  </tbody>\n",
       "</table>\n",
       "</div>"
      ],
      "text/plain": [
       "                      count         mean        std          min          25%  \\\n",
       "score               16731.0     7.048563   1.247042     0.000000     6.500000   \n",
       "danceability        16731.0     0.512967   0.155850     0.038667     0.409000   \n",
       "energy              16731.0     0.601946   0.200580     0.000126     0.474182   \n",
       "key                 16731.0     5.219102   1.609161     0.000000     4.333333   \n",
       "loudness            16731.0    -9.286734   4.235869   -51.728750   -11.218202   \n",
       "speechiness         16731.0     0.091199   0.087339    -0.058236     0.040645   \n",
       "acousticness        16731.0     0.302459   0.261092     0.000001     0.091182   \n",
       "instrumentalness    16731.0     0.275281   0.297830    -0.085783     0.009683   \n",
       "liveness            16731.0     0.196902   0.102061     0.015300     0.134545   \n",
       "valence             16731.0     0.405856   0.180050     0.000010     0.274400   \n",
       "tempo               16731.0   120.377248  15.285317    23.983333   111.255567   \n",
       "releaseyear_notutc  16731.0  2009.345765   7.796465  1957.000000  2005.000000   \n",
       "\n",
       "                            50%          75%       max  \n",
       "score                  7.300000     7.800000    10.000  \n",
       "danceability           0.511364     0.622700     0.974  \n",
       "energy                 0.624800     0.749732     0.999  \n",
       "key                    5.230769     6.100000    11.000  \n",
       "loudness              -8.445300    -6.396427     4.078  \n",
       "speechiness            0.056673     0.100279     0.958  \n",
       "acousticness           0.229000     0.460720     0.996  \n",
       "instrumentalness       0.149620     0.497540     0.982  \n",
       "liveness               0.174294     0.228350     0.978  \n",
       "valence                0.406300     0.531811     0.971  \n",
       "tempo                120.409133   129.146225   215.972  \n",
       "releaseyear_notutc  2010.000000  2015.000000  2019.000  "
      ]
     },
     "execution_count": 31,
     "metadata": {},
     "output_type": "execute_result"
    }
   ],
   "source": [
    "# 1.3\n",
    "\n",
    "numeric_cols = pitchfork.select_dtypes(include=['int64','float64']).columns\n",
    "\n",
    "# nice plot!\n",
    "fig, axs = plt.subplots(nrows=4, ncols=3, figsize=(10,10))\n",
    "for i,(col,ax) in enumerate(zip(numeric_cols, axs.flatten())):\n",
    "    sns.histplot(data=pitchfork[col],ax=ax, bins=20, kde=True, color=f'C{i}')\n",
    "    ax.set(title=f'Distribution of {col}')\n",
    "    \n",
    "plt.tight_layout()\n",
    "plt.show()\n",
    "\n",
    "# nice table!\n",
    "pitchfork.describe().T"
   ]
  },
  {
   "cell_type": "code",
   "execution_count": 32,
   "metadata": {},
   "outputs": [
    {
     "data": {
      "text/markdown": [
       "Category **artist** has **7890** unique values "
      ],
      "text/plain": [
       "<IPython.core.display.Markdown object>"
      ]
     },
     "metadata": {},
     "output_type": "display_data"
    },
    {
     "data": {
      "text/markdown": [
       "Category **album** has **16177** unique values "
      ],
      "text/plain": [
       "<IPython.core.display.Markdown object>"
      ]
     },
     "metadata": {},
     "output_type": "display_data"
    },
    {
     "data": {
      "text/markdown": [
       "Category **reviewauthor** has **554** unique values "
      ],
      "text/plain": [
       "<IPython.core.display.Markdown object>"
      ]
     },
     "metadata": {},
     "output_type": "display_data"
    },
    {
     "data": {
      "text/markdown": [
       "Category **recordlabel** has **3030** unique values "
      ],
      "text/plain": [
       "<IPython.core.display.Markdown object>"
      ]
     },
     "metadata": {},
     "output_type": "display_data"
    },
    {
     "data": {
      "text/markdown": [
       "Category **genre** has **10** unique values (Electronic, Folk/Country, Rock, Rap, Global, Experimental, Metal, Pop/R&B, Jazz, Other)"
      ],
      "text/plain": [
       "<IPython.core.display.Markdown object>"
      ]
     },
     "metadata": {},
     "output_type": "display_data"
    }
   ],
   "source": [
    "# 1.4 \n",
    "\n",
    "# Applying pd.where to replace eveything which is either null according to pandas (np.NaN, None) or the 'none' string\n",
    "\n",
    "pitchfork['genre'] = pitchfork['genre'].where(\n",
    "    ~((pd.isnull(pitchfork['genre']) | (pitchfork['genre'] == 'none'))), \n",
    "    other='Other'\n",
    ")\n",
    "\n",
    "# Printing all the categorical columns\n",
    "\n",
    "cat_cols = ['artist', 'album', 'reviewauthor', 'recordlabel', 'genre']\n",
    "\n",
    "display_all = lambda cat : f'({\", \".join(pitchfork[cat].unique())})' if pitchfork[cat].nunique() <= 10 else ''\n",
    "\n",
    "for cat in cat_cols:\n",
    "    display(Markdown(f'Category **{cat}** has **{pitchfork[cat].nunique()}** unique values {display_all(cat)}'))"
   ]
  },
  {
   "cell_type": "markdown",
   "metadata": {},
   "source": [
    "**1.5** \n",
    "\n",
    "First, as we could see in 1.3, the distribution of releases per year starts to ramp up a lot after the year 2000.\n",
    "This suggests that the website is more likely to publish reviews for more recent releases, and, thus, \n",
    "the proportion of albums per years in the dataset is not representative of the real life proportion of releases.\n",
    "\n",
    "Second, this dataset does not represent accurately the proportion of genres of releases, as said in the Wikipedia article, the \"website's journalism favored independent music, favoring lo-fi and often obscure indie rock.\"\n",
    "\n",
    "Third, Pitchfork reviews are made by a small set of American individuals, these many not accurately represent the opinion of other music reviewers."
   ]
  },
  {
   "cell_type": "markdown",
   "metadata": {
    "pycharm": {
     "name": "#%% md\n"
    }
   },
   "source": [
    "#### **Task 2 (Pre-processing and pipeline code — 12 pts)**\n",
    "\n",
    "Next, you decide to prepare the code that will help you in training your machine learning models. Also, you implement a simple baseline. For this task, **unless otherwise stated** you must implement functions yourself, instead of relying on `scikit-learn` (you can use `numpy` or `pandas`, though!).\n",
    "\n",
    "1. For each possible value in the `genre` column, create a new column called `{genre}_onehot` (e.g., for `genre=jazz`, create `jazz_onehot`). Collectively, these new columns should \"one hot-encode\" the genre column—for instance, if for a given album the `genre` is filled with the value `jazz`, the `jazz_onehot` column should equal 1 and all other `{genre}_onehot` columns should equal 0. \n",
    "\n",
    "2. Create a function `numpy_helper(df, cols)` to obtain a `numpy.array` out of your `dataframe`. The function should receive a dataframe `df` with N rows and a list of M columns `cols`, and should return a `np.array` of dimension (NxM).\n",
    "\n",
    "3. For each album, build an array of features `X` containing all genre-related one-hot features, and an array of outcomes `y` containing scores. Using the function [`sklearn.model_selection.train_test_split`](https://scikit-learn.org/stable/modules/generated/sklearn.model_selection.train_test_split.html) with `random_state=123`, split the data into a train set containing 70% of all data, and a test set containing the remaining 30%.\n",
    "\n",
    "4. Create your own baseline regressor. Using the training data (in the training stage), your regressor should estimate the average score for all albums. Then, for the test data (in the prediction stage), your classifier should always output the average score (computed on the training data).\n",
    "\n",
    "5. Calculate the [coefficient of determination ($R^2$)](https://scikit-learn.org/stable/modules/generated/sklearn.metrics.r2_score.html) of your baseline on the test data. **You are allowed to use the `sklearn` implementation here.**\n",
    "\n",
    "6. **Discuss:** Your train-test split randomly selected 70% of all data for the training set. Why is this a problem for the broader task of predicting whether a future album will be successful or not?\n",
    "\n",
    "---"
   ]
  },
  {
   "cell_type": "code",
   "execution_count": 33,
   "metadata": {},
   "outputs": [],
   "source": [
    "# 2.1\n",
    "\n",
    "pitchfork = pitchfork.join(pd.get_dummies(pitchfork['genre']).rename(columns=lambda x : f'{x}_onehot'))"
   ]
  },
  {
   "cell_type": "code",
   "execution_count": 34,
   "metadata": {},
   "outputs": [],
   "source": [
    "# 2.2 \n",
    "\n",
    "numpy_helper = lambda df, cols : df[cols].values"
   ]
  },
  {
   "cell_type": "code",
   "execution_count": 35,
   "metadata": {},
   "outputs": [],
   "source": [
    "# 2.3\n",
    "\n",
    "genre_cols = list(filter(lambda x : x.endswith('_onehot'), pitchfork.columns))\n",
    "\n",
    "X = numpy_helper(pitchfork, genre_cols)\n",
    "y = np.ravel(numpy_helper(pitchfork, ['score']))\n",
    "\n",
    "X_train, X_test, y_train, y_test = train_test_split(\n",
    "     X, y, test_size=0.3, random_state=123)"
   ]
  },
  {
   "cell_type": "code",
   "execution_count": 36,
   "metadata": {},
   "outputs": [
    {
     "data": {
      "text/plain": [
       "array([7.03911707, 7.03911707, 7.03911707, ..., 7.03911707, 7.03911707,\n",
       "       7.03911707])"
      ]
     },
     "execution_count": 36,
     "metadata": {},
     "output_type": "execute_result"
    }
   ],
   "source": [
    "# 2.4\n",
    "class BaselineRegressor():\n",
    "\n",
    "    def __init__(self):\n",
    "        self.baselines_ = None\n",
    "\n",
    "    def fit(self, X, y):\n",
    "\n",
    "        self.baselines_ = y.mean()\n",
    "        \n",
    "        # Return the classifier\n",
    "        return self\n",
    "\n",
    "    def predict(self, X):\n",
    "\n",
    "\n",
    "        return np.array([self.baselines_] * len(X))\n",
    "    \n",
    "\n",
    "clf = BaselineRegressor()\n",
    "\n",
    "clf.fit(X_train, y_train)\n",
    "\n",
    "preds = clf.predict(X_test)\n",
    "\n",
    "preds"
   ]
  },
  {
   "cell_type": "code",
   "execution_count": 37,
   "metadata": {},
   "outputs": [
    {
     "data": {
      "text/plain": [
       "-0.0006600097628044477"
      ]
     },
     "execution_count": 37,
     "metadata": {},
     "output_type": "execute_result"
    }
   ],
   "source": [
    "# 2.5 \n",
    "\n",
    "r2_score(y_test, preds)"
   ]
  },
  {
   "cell_type": "markdown",
   "metadata": {},
   "source": [
    "**2.6** Forecasting is a harder problem than regression in that sense because a lot can vary over time. Musical taste for example, change with time, so it is harder to precit what will be popular in the future than what is popular now."
   ]
  },
  {
   "cell_type": "markdown",
   "metadata": {},
   "source": [
    "**Task 3 (Regression — 18 pts)**\n",
    "\n",
    "Finally, you get down to business and train your regression models.\n",
    "\n",
    "1. Build a Linear Regression model (use `sklearn`) that predicts the outcome `score` using the features \"releaseyear\",  \"key\", \"acousticness\", \"danceability\", \"energy\", \"instrumentalness\", \"liveness\", \"loudness\", \"speechiness\", \"valence\", \"tempo\" and the one-hot encoded genre-related columns.  Using a 70/30 train-test split similar to what you did in task two (hereinafter referred to as \"the random split\", use the same random seed, `random_state=123`), report the $R^2$ for the testing set.\n",
    "\n",
    "2. Create an alternate train-test split (hereinafter referred to as \"the longitudinal split\") where you train with data from albums released before 2000 and test with data from 2003 and after. Report the $R^2$ for the testing set using the same model you developed for the previous question. **Discuss:** give the correct interpretation of $R^2$ value for the longitudinal split.\n",
    "\n",
    "3. For a given entry $X$ your model outputs a predicted score $Y'$. The difference between the real score $Y$ and the predicted score $Y'$ is called the \"residual\". Considering the model trained in 3.2, plot the distribution of your residuals for the test set. Additionally, estimate what is the probability that your score prediction (from 3.2) is off by more than 2-points? Provide bootstrapped confidence intervals for your answer.\n",
    "\n",
    "4. Experiment with training a different regressor, a Gradient Boosting Regressor. This regressor is related to the Boosted decision trees that you have seen in class. This model performs extremely well for a variety of tasks and is often used in machine learning competitions for tabular data (e.g., on Kaggle). Train the regressor using the longitudinal split and the same features as in 3.2, use the default hyperparameters. Report the $R^2$ for the testing set. \n",
    "\n",
    "5. **Discuss:** Hypothesize a reason for the difference in performance between the Linear regression and the Gradient Boosting Regressor.\n",
    "\n",
    "---"
   ]
  },
  {
   "cell_type": "code",
   "execution_count": 38,
   "metadata": {},
   "outputs": [
    {
     "name": "stdout",
     "output_type": "stream",
     "text": [
      "0.020858591941966265\n"
     ]
    }
   ],
   "source": [
    "# 3.1\n",
    "\n",
    "pitchfork['releaseint'] = pitchfork['releaseyear'].astype(int).copy()\n",
    "\n",
    "features = [\"releaseint\", \"key\", \"acousticness\", \"danceability\", \"energy\", \"instrumentalness\", \"liveness\",\n",
    "            \"loudness\", \"speechiness\", \"valence\", \"tempo\"] + genre_cols\n",
    "\n",
    "X = numpy_helper(pitchfork, features)\n",
    "y = np.ravel(numpy_helper(pitchfork, ['score']))\n",
    "\n",
    "# r for random split\n",
    "X_train_r, X_test_r, y_train_r, y_test_r = train_test_split(\n",
    "     X, y, test_size=0.3, random_state=123)\n",
    "\n",
    "reg = LinearRegression()\n",
    "\n",
    "reg.fit(X_train_r, y_train_r)\n",
    "\n",
    "preds = reg.predict(X_test_r)\n",
    "\n",
    "print(r2_score(y_test_r, preds))"
   ]
  },
  {
   "cell_type": "code",
   "execution_count": 39,
   "metadata": {},
   "outputs": [
    {
     "name": "stdout",
     "output_type": "stream",
     "text": [
      "-0.0836514240268047\n"
     ]
    }
   ],
   "source": [
    "# 3.2\n",
    "\n",
    "# Selecting data before and after the cut\n",
    "dt_2000 = datetime(2000,1,1)\n",
    "dt_2003 = datetime(2003,1,1)\n",
    "long_df_train = pitchfork[pitchfork['releaseyear'] <= dt_2000]\n",
    "long_df_test  = pitchfork[pitchfork['releaseyear'] >= dt_2003]\n",
    "\n",
    "X_train_l = numpy_helper(long_df_train, features)\n",
    "y_train_l = np.ravel(numpy_helper(long_df_train, ['score']))\n",
    "X_test_l  = numpy_helper(long_df_test, features)\n",
    "y_test_l  = np.ravel(numpy_helper(long_df_test, ['score']))\n",
    "\n",
    "X_train_l.shape, y_train_l.shape, X_test_l.shape, y_test_l.shape\n",
    "\n",
    "reg = LinearRegression()\n",
    "\n",
    "reg.fit(X_train_l, y_train_l)\n",
    "\n",
    "preds = reg.predict(X_test_l)\n",
    "\n",
    "print(r2_score(y_test_l, preds))"
   ]
  },
  {
   "cell_type": "markdown",
   "metadata": {},
   "source": [
    "**3.2 (cont)** In cases where negative values arise, the mean of the data provides a better fit to the outcomes than do the fitted function values, according to this particular criterion."
   ]
  },
  {
   "cell_type": "code",
   "execution_count": 40,
   "metadata": {},
   "outputs": [
    {
     "data": {
      "text/plain": [
       "(0.0834, 0.0946)"
      ]
     },
     "execution_count": 40,
     "metadata": {},
     "output_type": "execute_result"
    },
    {
     "data": {
      "image/png": "[encoded data removed]",
      "text/plain": [
       "<Figure size 432x288 with 1 Axes>"
      ]
     },
     "metadata": {},
     "output_type": "display_data"
    }
   ],
   "source": [
    "# 3.3\n",
    "\n",
    "# Computing the residuals\n",
    "resid = y_test_l - preds\n",
    "\n",
    "\n",
    "# Plotting the residuals\n",
    "\n",
    "hist, bins = np.histogram(resid, bins=100)\n",
    "\n",
    "sns.histplot(data=resid, kde=True, bins=bins)\n",
    "\n",
    "plt.gca().set(title='Distribution of residuals', xlabel='Value')\n",
    "\n",
    "# bootstrapping\n",
    "\n",
    "def bootstrap_samples(random_samples,seed):\n",
    "    \n",
    "    np.random.seed(seed)\n",
    "    \n",
    "    rand_arr = np.random.choice(random_samples, len(random_samples))\n",
    "    \n",
    "    return (rand_arr >= 2).mean()\n",
    "\n",
    "# create a single distribution\n",
    "rv_hist = scipy.stats.rv_histogram((hist, bins))\n",
    "\n",
    "# sampling from the distribution\n",
    "random_samples = [abs(rv_hist.rvs()) for _ in range(10_000)]\n",
    "\n",
    "# bootstrap_sampling probas\n",
    "probas = np.array([bootstrap_samples(random_samples, i) for i in range(1_000)])\n",
    "\n",
    "# quantiles\n",
    "np.quantile(probas, 0.025), np.quantile(probas, 0.975)"
   ]
  },
  {
   "cell_type": "code",
   "execution_count": 41,
   "metadata": {},
   "outputs": [
    {
     "name": "stdout",
     "output_type": "stream",
     "text": [
      "-0.3052394146389983\n"
     ]
    }
   ],
   "source": [
    "# 3.4\n",
    "\n",
    "# Fitting our GradientBoostingRegressor and checking the R2 score on the test set like in 3.1\n",
    "reg = GradientBoostingRegressor()\n",
    "\n",
    "reg.fit(X_train_l, y_train_l)\n",
    "\n",
    "preds = reg.predict(X_test_l)\n",
    "\n",
    "print(r2_score(y_test_l, preds))"
   ]
  },
  {
   "cell_type": "markdown",
   "metadata": {},
   "source": [
    "**3.5** The gradient boosting regressor overfits to the training data, making it even worse than the linear regression."
   ]
  },
  {
   "cell_type": "markdown",
   "metadata": {},
   "source": [
    "**Task 4 (Are we solving the correct problem? — 12 pts)**\n",
    "\n",
    "All your efforts so far have assumed that decisions are taken at the \"album\" level, which is often not the case for bands with multiple albums. In those cases, it could be interesting to predict what is the success of a given band album given the features of the album **and of previous albums**.\n",
    "\n",
    "1. Create a new dataframe that contains one row per band with more than 1 album. This dataframe should have the same columns as the data provided to you, considering the latest album of the respective band (note that this is determined by the release year of the album, not the date when it was reviewed). Additionally, for each feature considered in Task 3.1 (including the one-hot encoded features), create an additional column post-fixed with `_previous` (e.g., `danceability_previous`). These columns should contain the average values for all of the band's previous albums. Also, create a column `score_previous` with the average score of previous albums. Print the number of rows in the dataframe as well as the name of the columns.\n",
    "\n",
    "2. Train a Gradient Boosting Regressor considering all features created in Task 4.1 (note that `score` is the outcome and everything else is a feature, including `score_previous`). Use the 70/30 random train-test split, the default hyperparameters, and report the $R^2$ for the testing set. \n",
    "\n",
    "3. Can hyperparameter tuning improve your model? Write modular code (i.e., a function) to divide your training data into $N$ folds and perform cross-validation. Experiment tuning two hyperparameters of the Gradient Boosting Regressor: `n_estimators` and `learning_rate`. For each possible combination of the two hyperparameters (see below for the range of values that you should try for each hyperparameter), train your model in a cross-validation setup with $N=20$ folds. Report the mean  $R^2$ along with the 90% CI for each scenario. \n",
    "    - n_estimators $ \\in  \\{ 100, 200, 300, 400\\}$\n",
    "    - learning_rate $ \\in  \\{ 0.1, 0.05, 0.01\\}$.\n",
    " \n",
    " With the best hyperparameters obtained, train your model with the entire training set and report the $R^2$ on the testing set.\n",
    " \n",
    "4. **Discuss:** How do these results compare with the previous setup (the scenario considered in **Task 3.4**)? Point out two reasons why it is hard to compare the results obtained in 4.3 and 3.4 at face value? How would you fairly compare the two different setups?\n",
    "\n",
    "---"
   ]
  },
  {
   "cell_type": "code",
   "execution_count": 42,
   "metadata": {},
   "outputs": [],
   "source": [
    "# 4.1\n",
    "\n",
    "features_no_onehot = ['key',\n",
    " 'acousticness',\n",
    " 'danceability',\n",
    " 'energy',\n",
    " 'instrumentalness',\n",
    " 'liveness',\n",
    " 'loudness',\n",
    " 'speechiness',\n",
    " 'valence',\n",
    " 'tempo'] + genre_cols\n",
    "\n",
    "# Creating two dataframes:\n",
    "# - one where we select all except the last album and compute the mean (which will become the _previous columns), \n",
    "# - and the second where we select only the last album, and then join them back together.\n",
    "\n",
    "# keep only artists\n",
    "filtered_artists = pitchfork.groupby('artist').size().loc[lambda x : x > 1].index\n",
    "only_artists = pitchfork[pitchfork.artist.isin(filtered_artists)]\n",
    "\n",
    "# per artist, drop last and take mean\n",
    "previous_df = (only_artists\n",
    "               .sort_values(by='releaseyear')\n",
    "               .groupby('artist')\n",
    "               .apply(lambda x : x.iloc[:-1][features_no_onehot + ['score']]\n",
    "                      .mean(axis=0))\n",
    "               .rename(columns=lambda x : f'{x}_previous'))\n",
    "\n",
    "# per artist, only take last\n",
    "artist_df = (only_artists\n",
    "             .sort_values(by='releaseyear')\n",
    "             .groupby('artist')\n",
    "             .apply(lambda x : x.iloc[-1]))\n",
    "\n",
    "# join the two dfs back together\n",
    "new_df = artist_df.join(previous_df)"
   ]
  },
  {
   "cell_type": "code",
   "execution_count": 43,
   "metadata": {},
   "outputs": [
    {
     "data": {
      "text/plain": [
       "0.1942227845015312"
      ]
     },
     "execution_count": 43,
     "metadata": {},
     "output_type": "execute_result"
    }
   ],
   "source": [
    "# 4.2\n",
    "\n",
    "previous_cols = new_df.columns[new_df.columns.str.endswith('_previous')]\n",
    "new_features = features + list(previous_cols)\n",
    "\n",
    "\n",
    "X_new = numpy_helper(new_df, new_features)\n",
    "y_new = np.ravel(numpy_helper(new_df, ['score']))\n",
    "\n",
    "X_train_n, X_test_n, y_train_n, y_test_n = train_test_split(\n",
    "     X_new, y_new, test_size=0.3, random_state=123)\n",
    "\n",
    "reg = GradientBoostingRegressor()\n",
    "\n",
    "reg.fit(X_train_n, y_train_n)\n",
    "\n",
    "preds = reg.predict(X_test_n)\n",
    "\n",
    "r2_score(y_test_n, preds)"
   ]
  },
  {
   "cell_type": "code",
   "execution_count": 44,
   "metadata": {},
   "outputs": [
    {
     "name": "stderr",
     "output_type": "stream",
     "text": [
      "[Parallel(n_jobs=4)]: Using backend LokyBackend with 4 concurrent workers.\n",
      "[Parallel(n_jobs=4)]: Done   5 tasks      | elapsed:  2.8min\n",
      "[Parallel(n_jobs=4)]: Done   7 out of  12 | elapsed:  3.9min remaining:  2.8min\n",
      "[Parallel(n_jobs=4)]: Done   9 out of  12 | elapsed:  5.8min remaining:  1.9min\n",
      "[Parallel(n_jobs=4)]: Done  12 out of  12 | elapsed:  8.2min finished\n"
     ]
    },
    {
     "data": {
      "text/plain": [
       "0.21293782628923041"
      ]
     },
     "execution_count": 44,
     "metadata": {},
     "output_type": "execute_result"
    },
    {
     "data": {
      "image/png": "[encoded data removed]",
      "text/plain": [
       "<Figure size 1080x360 with 4 Axes>"
      ]
     },
     "metadata": {},
     "output_type": "display_data"
    }
   ],
   "source": [
    "# 4.3\n",
    "\n",
    "params = {\n",
    "    'n_estimators':[100, 200, 300 ,400],\n",
    "    'learning_rate':[0.1,0.05,0.01]\n",
    "}\n",
    "\n",
    "def cross_val_single_param(X,y,param,kfold,reg_class=GradientBoostingRegressor):\n",
    "    r2s = []\n",
    "        \n",
    "    for train_ind, test_ind in kfold.split(X):\n",
    "        \n",
    "        # train indices\n",
    "        X_train = X[train_ind]\n",
    "        y_train = y[train_ind]\n",
    "        \n",
    "        # test indices\n",
    "        X_test = X[test_ind]\n",
    "        y_test = y[test_ind]\n",
    "        \n",
    "        # create classifier, fit, predict\n",
    "        reg = reg_class(**param)\n",
    "        \n",
    "        reg.fit(X_train, y_train)\n",
    "        preds = reg.predict(X_test)\n",
    "        \n",
    "        # add r2 score to array\n",
    "        r2s += [r2_score(y_test, preds)]\n",
    "        \n",
    "    return r2s\n",
    "\n",
    "def cross_val(X,y,params,N=20, n_jobs=4):\n",
    "    \n",
    "    # generate list of params\n",
    "    params_list = [{name:y for name,y in zip(params.keys(),x)} for x in list(itertools.product(*params.values()))]\n",
    "        \n",
    "    # create kfold splitter\n",
    "    kfold = KFold(N)\n",
    "    \n",
    "    # apply cross_val score function for each param set we have\n",
    "    scores = Parallel(n_jobs=n_jobs, verbose=10)(delayed(cross_val_single_param)(X,y,param,kfold) \n",
    "                                                 for param in params_list)\n",
    "    \n",
    "    return scores\n",
    "\n",
    "scores = cross_val(X_train_n, y_train_n, params)\n",
    "\n",
    "def bootstrap_ci(x):\n",
    "    mean_vals = [np.random.choice(x,len(x)).mean() for _ in range(1000)]\n",
    "    return np.quantile(mean_vals, 0.05), np.quantile(mean_vals, 0.95)\n",
    "\n",
    "scores_reshaped = np.array([bootstrap_ci(x) for x in scores]).reshape([len(x) for x in params.values()] + [-1])\n",
    "\n",
    "fig, axs = plt.subplots(ncols=2, figsize=(15,5))\n",
    "\n",
    "manual_params = dict(\n",
    "    yticklabels=params['n_estimators'],\n",
    "    xticklabels=params['learning_rate'],\n",
    "    vmin=0.08,\n",
    "    vmax=0.2,\n",
    "    annot=True,\n",
    "    fmt='.3f'\n",
    ")\n",
    "\n",
    "sns.heatmap(data=scores_reshaped[:,:,0], ax=axs[0], **manual_params)\n",
    "sns.heatmap(data=scores_reshaped[:,:,1], ax=axs[1], **manual_params)\n",
    "\n",
    "axs[0].set(title='Lower bound of 90% CI')\n",
    "axs[1].set(title='Upper bound of 90% CI')\n",
    "\n",
    "for i in range(2):\n",
    "    axs[i].set(ylabel='#estimators', xlabel='Learning rate')\n",
    "    \n",
    "plt.suptitle('Scores obtained on grid search');\n",
    "\n",
    "reg = GradientBoostingRegressor(n_estimators=400, learning_rate=0.01)\n",
    "\n",
    "reg.fit(X_train_n, y_train_n)\n",
    "\n",
    "preds = reg.predict(X_test_n)\n",
    "\n",
    "r2_score(y_test_n, preds)"
   ]
  },
  {
   "cell_type": "markdown",
   "metadata": {},
   "source": [
    "**4.4 —** The coefficient of determination is higher for this scenario, meaning that using this scenario we are better to better predict the dependent variable — It seems that considering the history of each band in making the predictions results in better predictions. However, comparing the results from 4.3 with those obtained in 3.4 at face value is not appropriate since:\n",
    "\n",
    "- Here we have limited our sample to bands containing multiple albums.\n",
    "- Here we have fine-tuned our parameters.\n",
    "\n",
    "A better comparison would take both these things into account.\n"
   ]
  },
  {
   "cell_type": "markdown",
   "metadata": {},
   "source": [
    "## Part 2: Second Album Syndrome\n",
    "\n",
    "Your second project at *Piccardi Music* is to shed light on one of the business's oldest enigmas: the \"second album syndrome.\" In a nutshell, the \"second album syndrome\" is a theory that states that the second album of a band always sucks. ([Related read](https://tvtropes.org/pmwiki/pmwiki.php/Main/SophomoreSlump))\n",
    "\n",
    "Assume—for the purpose of this task—that the Pitchfork data contains all albums for all artists it covers (even though this might not be true in reality)."
   ]
  },
  {
   "cell_type": "markdown",
   "metadata": {
    "pycharm": {
     "name": "#%% md\n"
    }
   },
   "source": [
    "**Task 5 (Preliminary analyses — 10 pts)**\n",
    "\n",
    "You begin by carrying out some preliminary data processing and analyses.\n",
    "\n",
    "1. Create a new dataframe (from the original data with duplicates dropped, the same as you obtained after finishing Task 1.1) containing only albums from artists with two or more albums and where the release year is not empty.\n",
    "2. Create a new column `album_number` which indicates how many albums the artist has produced before this one (before the second album, the artist has already produced one album).\n",
    "3. Calculate the mean and the standard error fo the mean of the scores of the first and second albums in the dataset. Additionally, plot the two distributions. \n",
    "4. Use an appropriate method to determine if the difference in means of 1st and 2nd albums is statistically significant?\n",
    "5. **Discuss:** Do these analyses suggest that the \"second album syndrome\" exists?\n",
    "\n",
    "---"
   ]
  },
  {
   "cell_type": "code",
   "execution_count": 45,
   "metadata": {},
   "outputs": [],
   "source": [
    "# 5.1\n",
    "\n",
    "pitchfork = pd.read_csv('data/pitchfork.csv.gz')\n",
    "pitchfork = pitchfork.drop_duplicates(subset=[\"album\", \"artist\"], keep=\"first\")\n",
    "pitchfork['reviewdate'] = pd.to_datetime(pitchfork['reviewdate'], format='%B %d %Y')\n",
    "pitchfork['releaseyear'] = pd.to_datetime(pitchfork['releaseyear'], format='%Y')\n",
    "pitchfork['releaseyear_notutc'] = pitchfork.releaseyear.dt.year\n",
    "\n",
    "# artists with more than 1 album\n",
    "filtered_artists = pitchfork.groupby('artist').size().loc[lambda x : x > 1].index\n",
    "\n",
    "# copying so we don't accidentally modify original df\n",
    "two_ormore = pitchfork[pitchfork.artist.isin(filtered_artists)].copy()"
   ]
  },
  {
   "cell_type": "code",
   "execution_count": 46,
   "metadata": {},
   "outputs": [
    {
     "data": {
      "text/html": [
       "<div>\n",
       "<style scoped>\n",
       "    .dataframe tbody tr th:only-of-type {\n",
       "        vertical-align: middle;\n",
       "    }\n",
       "\n",
       "    .dataframe tbody tr th {\n",
       "        vertical-align: top;\n",
       "    }\n",
       "\n",
       "    .dataframe thead th {\n",
       "        text-align: right;\n",
       "    }\n",
       "</style>\n",
       "<table border=\"1\" class=\"dataframe\">\n",
       "  <thead>\n",
       "    <tr style=\"text-align: right;\">\n",
       "      <th></th>\n",
       "      <th>releaseyear</th>\n",
       "      <th>reviewdate</th>\n",
       "      <th>album_number</th>\n",
       "    </tr>\n",
       "  </thead>\n",
       "  <tbody>\n",
       "    <tr>\n",
       "      <th>8396</th>\n",
       "      <td>2015-01-01</td>\n",
       "      <td>2015-04-24</td>\n",
       "      <td>0</td>\n",
       "    </tr>\n",
       "    <tr>\n",
       "      <th>11547</th>\n",
       "      <td>2015-01-01</td>\n",
       "      <td>2015-09-24</td>\n",
       "      <td>1</td>\n",
       "    </tr>\n",
       "    <tr>\n",
       "      <th>8735</th>\n",
       "      <td>2016-01-01</td>\n",
       "      <td>2016-02-09</td>\n",
       "      <td>2</td>\n",
       "    </tr>\n",
       "    <tr>\n",
       "      <th>11546</th>\n",
       "      <td>2016-01-01</td>\n",
       "      <td>2016-03-30</td>\n",
       "      <td>3</td>\n",
       "    </tr>\n",
       "    <tr>\n",
       "      <th>482</th>\n",
       "      <td>2016-01-01</td>\n",
       "      <td>2016-09-01</td>\n",
       "      <td>4</td>\n",
       "    </tr>\n",
       "    <tr>\n",
       "      <th>15816</th>\n",
       "      <td>2017-01-01</td>\n",
       "      <td>2017-06-20</td>\n",
       "      <td>5</td>\n",
       "    </tr>\n",
       "    <tr>\n",
       "      <th>13411</th>\n",
       "      <td>2017-01-01</td>\n",
       "      <td>2017-09-26</td>\n",
       "      <td>6</td>\n",
       "    </tr>\n",
       "    <tr>\n",
       "      <th>80</th>\n",
       "      <td>2018-01-01</td>\n",
       "      <td>2018-08-22</td>\n",
       "      <td>7</td>\n",
       "    </tr>\n",
       "    <tr>\n",
       "      <th>16524</th>\n",
       "      <td>2019-01-01</td>\n",
       "      <td>2019-08-21</td>\n",
       "      <td>8</td>\n",
       "    </tr>\n",
       "  </tbody>\n",
       "</table>\n",
       "</div>"
      ],
      "text/plain": [
       "      releaseyear reviewdate  album_number\n",
       "8396   2015-01-01 2015-04-24             0\n",
       "11547  2015-01-01 2015-09-24             1\n",
       "8735   2016-01-01 2016-02-09             2\n",
       "11546  2016-01-01 2016-03-30             3\n",
       "482    2016-01-01 2016-09-01             4\n",
       "15816  2017-01-01 2017-06-20             5\n",
       "13411  2017-01-01 2017-09-26             6\n",
       "80     2018-01-01 2018-08-22             7\n",
       "16524  2019-01-01 2019-08-21             8"
      ]
     },
     "execution_count": 46,
     "metadata": {},
     "output_type": "execute_result"
    }
   ],
   "source": [
    "# 5.2\n",
    "\n",
    "# adding album number\n",
    "two_ormore.loc[:,'album_number'] = (two_ormore\n",
    "                              .sort_values(by=['releaseyear', 'reviewdate'])\n",
    "                              .groupby('artist')['album']\n",
    "                              .transform(lambda x : range(len(x))))\n",
    "\n",
    "# example artist:\n",
    "two_ormore.sort_values(by=['releaseyear', 'reviewdate'])\\\n",
    "          .query('artist == \"Young Thug\"')[['releaseyear','reviewdate','album_number']]"
   ]
  },
  {
   "cell_type": "code",
   "execution_count": 47,
   "metadata": {},
   "outputs": [
    {
     "data": {
      "text/html": [
       "<div>\n",
       "<style scoped>\n",
       "    .dataframe tbody tr th:only-of-type {\n",
       "        vertical-align: middle;\n",
       "    }\n",
       "\n",
       "    .dataframe tbody tr th {\n",
       "        vertical-align: top;\n",
       "    }\n",
       "\n",
       "    .dataframe thead th {\n",
       "        text-align: right;\n",
       "    }\n",
       "</style>\n",
       "<table border=\"1\" class=\"dataframe\">\n",
       "  <thead>\n",
       "    <tr style=\"text-align: right;\">\n",
       "      <th></th>\n",
       "      <th>mean</th>\n",
       "      <th>sem</th>\n",
       "    </tr>\n",
       "    <tr>\n",
       "      <th>album_number</th>\n",
       "      <th></th>\n",
       "      <th></th>\n",
       "    </tr>\n",
       "  </thead>\n",
       "  <tbody>\n",
       "    <tr>\n",
       "      <th>0</th>\n",
       "      <td>7.303002</td>\n",
       "      <td>0.020686</td>\n",
       "    </tr>\n",
       "    <tr>\n",
       "      <th>1</th>\n",
       "      <td>7.038468</td>\n",
       "      <td>0.021327</td>\n",
       "    </tr>\n",
       "  </tbody>\n",
       "</table>\n",
       "</div>"
      ],
      "text/plain": [
       "                  mean       sem\n",
       "album_number                    \n",
       "0             7.303002  0.020686\n",
       "1             7.038468  0.021327"
      ]
     },
     "metadata": {},
     "output_type": "display_data"
    },
    {
     "data": {
      "image/png": "[encoded data removed]",
      "text/plain": [
       "<Figure size 1080x360 with 2 Axes>"
      ]
     },
     "metadata": {},
     "output_type": "display_data"
    }
   ],
   "source": [
    "# 5.3\n",
    "\n",
    "display(two_ormore.groupby('album_number')['score'].agg(['mean', 'sem']).loc[[0,1]])\n",
    "\n",
    "zeros, ones = two_ormore.loc[two_ormore['album_number'].isin([0,1])].groupby('album_number')['score'].apply(list)\n",
    "fig, axs = plt.subplots(ncols=2, figsize=(15,5))\n",
    "\n",
    "sns.ecdfplot(zeros, label='First album', ax=axs[0])\n",
    "sns.ecdfplot(ones, label='Second album', ax=axs[0])\n",
    "\n",
    "axs[0].legend()\n",
    "axs[0].set(title='Empirical cumulative distribution of scores for first and second album')\n",
    "\n",
    "sns.histplot(zeros, kde=True, alpha=0.5, label='First album', ax=axs[1])\n",
    "sns.histplot(ones,kde=True, alpha=0.5, label='Second album', color='C8', ax=axs[1])\n",
    "\n",
    "axs[1].legend()\n",
    "axs[1].set(title='Distribution of scores for first and second album');"
   ]
  },
  {
   "cell_type": "code",
   "execution_count": 48,
   "metadata": {},
   "outputs": [
    {
     "data": {
      "text/plain": [
       "Ttest_indResult(statistic=8.903441019634526, pvalue=6.775768621489928e-19)"
      ]
     },
     "execution_count": 48,
     "metadata": {},
     "output_type": "execute_result"
    }
   ],
   "source": [
    "# 5.4\n",
    "\n",
    "zeros, ones = two_ormore.loc[two_ormore['album_number'].isin([0,1])].groupby('album_number')['score'].apply(list)\n",
    "\n",
    "ttest_ind(zeros, ones)"
   ]
  },
  {
   "cell_type": "markdown",
   "metadata": {},
   "source": [
    "**5.5 —** The analyses are in accordance with the hypothesis, since we indeed find a significant decrease in the average score of the second album."
   ]
  },
  {
   "cell_type": "markdown",
   "metadata": {},
   "source": [
    "**Task 6 (Regression analysis — 21 pts)**\n",
    "\n",
    "Next, you proceed to examine some hypotheses about the \"second album syndrome\" using a regression framework. Namely:\n",
    "\n",
    "- The **time spent hypothesis:**  the first album usually has a couple of years of development under its belt and plenty of trial and error from live concerts to help the band determine what does or doesn't work. The second album, on the other hand, is often made in a rush.\n",
    "\n",
    "- The **style change hypothesis:** bands often try to change their style after their first album. This change is not always welcomed by the listeners.\n",
    "\n",
    "1. Create a new dataframe containing one row per 1st-2nd album pair. The dataframe should contain rows:\n",
    "    - `score_diff`: the difference in scores between the second and the first album (second - first).\n",
    "    - `time_diff`: the number of days elapsed between the first and the second album.\n",
    "    - `did_style_change`: a dummy variable that indicates whether the style of the music has changed. To obtain it, first, calculate the [standardized euclidean distance](https://docs.scipy.org/doc/scipy/reference/generated/scipy.spatial.distance.seuclidean.html) of music-related numerical features¹ between the second and the first album. Second, assign 1 to the 20% most distant 1st-2nd album pairs and 0 to all others.\n",
    "2. Fit a linear regression using `statsmodels` with this dataframe. Your regression should consider only an intercept, i.e., `\"score_diff ~ 1\"`.\n",
    "3. **Discuss:** Interpret the $R^2$ in your regression here. Does this analysis confirm what you observed in Task 5? Why?\n",
    "4. Include the `time_diff` and `did_style_change` as covariates in your model. Fit the regression again and report the summary of your model. \n",
    "5. **Discuss:** Interpret the coefficients `time_diff` and `did_style_change`. Carefully explain whether they provide evidence towards each of the aforementioned hypotheses? Do they rule out other reasons that may cause the \"second album syndrome effect\"?\n",
    "6. Create a new column called `time_diff_standardized`. It should be a standardized version of the `time_diff` column. Repeat the regression done in 6.4 using the `time_diff_standardized` column instead of the `time_diff` column.\n",
    "7. **Discuss:** Explain how the interpretation of the coefficients associated with this new column `time_diff_standardized` differ from its non-standardized version \n",
    "`time_diff`?\n",
    "\n",
    "--- \n",
    "\n",
    "**¹** Music related numerical features are:  \"key\", \"acousticness\", \"danceability\", \"energy\", \"instrumentalness\", \"liveness\", \"loudness\", \"speechiness\", \"valence\", and \"tempo\".\n"
   ]
  },
  {
   "cell_type": "code",
   "execution_count": 50,
   "metadata": {},
   "outputs": [],
   "source": [
    "# 6.1\n",
    "\n",
    "music_features = [\"key\", \"acousticness\", \"danceability\", \"energy\", \"instrumentalness\", \"liveness\", \n",
    "                  \"loudness\", \"speechiness\", \"valence\", \"tempo\"]\n",
    "\n",
    "first_two = two_ormore[two_ormore.album_number.isin((0,1))]\n",
    "\n",
    "variances = first_two[music_features].var()\n",
    "\n",
    "def agg_func(x):\n",
    "    \n",
    "    assert len(x) == 2\n",
    "    \n",
    "    # get the two parts of the df\n",
    "    first, second = x.iloc[0], x.iloc[1]\n",
    "    \n",
    "    \n",
    "    \n",
    "    # compute the 3 features\n",
    "    score_d = second['score'] - first['score']\n",
    "    time_d  = abs(first['releaseyear'] - second['releaseyear'])\n",
    "    dist    = seuclidean(first[music_features], second[music_features], variances)\n",
    "    \n",
    "    # return the 3 features as columns\n",
    "    return pd.Series([score_d, time_d, dist], index =['score_diff', 'time_diff', 'dist'])\n",
    "\n",
    "# apply our aggregation function\n",
    "pair_df = first_two.sort_values(by='releaseyear').groupby('artist').apply(agg_func)\n",
    "\n",
    "# get the cut value for highest 20%\n",
    "quantile_8th = pair_df['dist'].quantile(q=0.8)\n",
    "\n",
    "pair_df['time_diff'] = pair_df['time_diff'].dt.days \n",
    "\n",
    "# assign style change to 1 if in the 20% highest\n",
    "pair_df.loc[:,'did_style_change'] = 0\n",
    "pair_df.loc[pair_df['dist'] >= quantile_8th,'did_style_change'] = 1"
   ]
  },
  {
   "cell_type": "code",
   "execution_count": 51,
   "metadata": {},
   "outputs": [],
   "source": [
    "pair_df = pair_df[pair_df.time_diff != 0]"
   ]
  },
  {
   "cell_type": "code",
   "execution_count": 52,
   "metadata": {},
   "outputs": [
    {
     "name": "stdout",
     "output_type": "stream",
     "text": [
      "                            OLS Regression Results                            \n",
      "==============================================================================\n",
      "Dep. Variable:             score_diff   R-squared:                      -0.000\n",
      "Model:                            OLS   Adj. R-squared:                 -0.000\n",
      "Method:                 Least Squares   F-statistic:                       nan\n",
      "Date:                Wed, 01 Dec 2021   Prob (F-statistic):                nan\n",
      "Time:                        19:50:16   Log-Likelihood:                -5888.2\n",
      "No. Observations:                3389   AIC:                         1.178e+04\n",
      "Df Residuals:                    3388   BIC:                         1.178e+04\n",
      "Df Model:                           0                                         \n",
      "Covariance Type:            nonrobust                                         \n",
      "==============================================================================\n",
      "                 coef    std err          t      P>|t|      [0.025      0.975]\n",
      "------------------------------------------------------------------------------\n",
      "Intercept     -0.2747      0.024    -11.628      0.000      -0.321      -0.228\n",
      "==============================================================================\n",
      "Omnibus:                      358.407   Durbin-Watson:                   1.975\n",
      "Prob(Omnibus):                  0.000   Jarque-Bera (JB):             1938.189\n",
      "Skew:                          -0.355   Prob(JB):                         0.00\n",
      "Kurtosis:                       6.636   Cond. No.                         1.00\n",
      "==============================================================================\n",
      "\n",
      "Warnings:\n",
      "[1] Standard Errors assume that the covariance matrix of the errors is correctly specified.\n"
     ]
    }
   ],
   "source": [
    "# 6.2\n",
    "\n",
    "mod = smf.ols(formula='score_diff ~ 1', data=pair_df)\n",
    "res = mod.fit()\n",
    "\n",
    "print(res.summary())"
   ]
  },
  {
   "cell_type": "markdown",
   "metadata": {},
   "source": [
    "**6.3** The $R^2$ formula is:\n",
    "    \n",
    "$$\n",
    "R^2 = 1 - \\frac{\\sum_i (y_i - f_i)}{{\\sum_i (y_i - \\bar{y}_i)}}\n",
    "$$\n",
    "\n",
    "Where $y_i$ is the outcome of the i-th datapoint, $f_i$ is the prediction of the model, and $\\bar{y}_i$ is the average outcome. Here, as the regression only has an intercept, the prediction equals the mean, and thus the $R^2$ equals 0.\n",
    "\n",
    "Note that what we are doing here is very similar to a t-test (what was done in Task 5), there, we were looking if the difference in averages was significantly different, here, we are looking whether the average difference in paired outcomes is significantly bigger than 0.\n",
    "\n"
   ]
  },
  {
   "cell_type": "code",
   "execution_count": 53,
   "metadata": {},
   "outputs": [
    {
     "name": "stdout",
     "output_type": "stream",
     "text": [
      "                            OLS Regression Results                            \n",
      "==============================================================================\n",
      "Dep. Variable:             score_diff   R-squared:                       0.017\n",
      "Model:                            OLS   Adj. R-squared:                  0.017\n",
      "Method:                 Least Squares   F-statistic:                     29.80\n",
      "Date:                Wed, 01 Dec 2021   Prob (F-statistic):           1.48e-13\n",
      "Time:                        19:50:16   Log-Likelihood:                -5858.7\n",
      "No. Observations:                3389   AIC:                         1.172e+04\n",
      "Df Residuals:                    3386   BIC:                         1.174e+04\n",
      "Df Model:                           2                                         \n",
      "Covariance Type:            nonrobust                                         \n",
      "====================================================================================\n",
      "                       coef    std err          t      P>|t|      [0.025      0.975]\n",
      "------------------------------------------------------------------------------------\n",
      "Intercept           -0.1485      0.030     -4.902      0.000      -0.208      -0.089\n",
      "time_diff        -8.711e-05   1.13e-05     -7.686      0.000      -0.000   -6.49e-05\n",
      "did_style_change    -0.0298      0.059     -0.505      0.613      -0.145       0.086\n",
      "==============================================================================\n",
      "Omnibus:                      327.621   Durbin-Watson:                   1.972\n",
      "Prob(Omnibus):                  0.000   Jarque-Bera (JB):             1782.660\n",
      "Skew:                          -0.290   Prob(JB):                         0.00\n",
      "Kurtosis:                       6.505   Cond. No.                     6.40e+03\n",
      "==============================================================================\n",
      "\n",
      "Warnings:\n",
      "[1] Standard Errors assume that the covariance matrix of the errors is correctly specified.\n",
      "[2] The condition number is large, 6.4e+03. This might indicate that there are\n",
      "strong multicollinearity or other numerical problems.\n"
     ]
    }
   ],
   "source": [
    "# 6.4\n",
    "pair_df[\"time_diff_standardized\"] = (pair_df[\"time_diff\"] - pair_df[\"time_diff\"].mean()) / pair_df[\"time_diff\"].std()\n",
    "mod = smf.ols(formula='score_diff ~ 1 + time_diff + did_style_change', data=pair_df)\n",
    "res = mod.fit()\n",
    "\n",
    "print(res.summary())"
   ]
  },
  {
   "cell_type": "markdown",
   "metadata": {},
   "source": [
    "**6.5 —** The results suggest that neither of the hypotheses trying to explain the \"Second Album Syndrome\" are true:\n",
    "\n",
    "- The coefficient associated with the time difference is negative: this implies that the longer time goes by, the worse the score of the next album will be. This is the opposite of what the time spent hypothesis says.\n",
    "- The coefficient associated with the style change is not significant.\n",
    "\n",
    "Even when controlling for these two covariates, we still find a significant difference between the first and second album in each band, captured by the intercept."
   ]
  },
  {
   "cell_type": "code",
   "execution_count": 54,
   "metadata": {},
   "outputs": [
    {
     "name": "stdout",
     "output_type": "stream",
     "text": [
      "                            OLS Regression Results                            \n",
      "==============================================================================\n",
      "Dep. Variable:             score_diff   R-squared:                       0.017\n",
      "Model:                            OLS   Adj. R-squared:                  0.017\n",
      "Method:                 Least Squares   F-statistic:                     29.80\n",
      "Date:                Wed, 01 Dec 2021   Prob (F-statistic):           1.48e-13\n",
      "Time:                        19:50:16   Log-Likelihood:                -5858.7\n",
      "No. Observations:                3389   AIC:                         1.172e+04\n",
      "Df Residuals:                    3386   BIC:                         1.174e+04\n",
      "Df Model:                           2                                         \n",
      "Covariance Type:            nonrobust                                         \n",
      "==========================================================================================\n",
      "                             coef    std err          t      P>|t|      [0.025      0.975]\n",
      "------------------------------------------------------------------------------------------\n",
      "Intercept                 -0.2689      0.026    -10.287      0.000      -0.320      -0.218\n",
      "time_diff_standardized    -0.1802      0.023     -7.686      0.000      -0.226      -0.134\n",
      "did_style_change          -0.0298      0.059     -0.505      0.613      -0.145       0.086\n",
      "==============================================================================\n",
      "Omnibus:                      327.621   Durbin-Watson:                   1.972\n",
      "Prob(Omnibus):                  0.000   Jarque-Bera (JB):             1782.660\n",
      "Skew:                          -0.290   Prob(JB):                         0.00\n",
      "Kurtosis:                       6.505   Cond. No.                         2.63\n",
      "==============================================================================\n",
      "\n",
      "Warnings:\n",
      "[1] Standard Errors assume that the covariance matrix of the errors is correctly specified.\n"
     ]
    }
   ],
   "source": [
    "# 6.6\n",
    "pair_df[\"time_diff_standardized\"] = (pair_df[\"time_diff\"] - pair_df[\"time_diff\"].mean()) / pair_df[\"time_diff\"].std()\n",
    "mod = smf.ols(formula='score_diff ~ 1 + time_diff_standardized + did_style_change', data=pair_df)\n",
    "res = mod.fit()\n",
    "\n",
    "print(res.summary())"
   ]
  },
  {
   "cell_type": "markdown",
   "metadata": {},
   "source": [
    "**6.7 —** In the non-standardized case, one unit change in the coefficient associated with `time_diff` \n",
    "represents by how the score between the second and first album changes, in average, per each day passed between the two. In the standardized case, one unit change represents the change associated with a one standard deviation in the regressor `time_diff`."
   ]
  },
  {
   "cell_type": "markdown",
   "metadata": {},
   "source": [
    "**Task 7 (Sanity checks — 6 pts)**\n",
    "\n",
    "You decide to perform a few last sanity checks for your analysis.\n",
    "\n",
    "1.  **Discuss:** If the Second Album Syndrome existed, i.e., something was special about the second album (as in if it was bad for a very particular reason that afflicted album number 2 more than all others), what would you expect to happen to the mean score of the third album?\n",
    "2. Using the dataset you created in Task 5, calculate the mean and the standard error of the mean for the 1st, 2nd, 3rd, and 4th albums. Test whether the difference between the average score of the second and the third album is statistically significant.\n",
    "3. **Discuss:** Does this suggest that the Second Album Syndrome exists?\n"
   ]
  },
  {
   "cell_type": "markdown",
   "metadata": {},
   "source": [
    "**7.1 —** If something was particularly bad about the second album, we'd expect the score of the third album to increase relative to the second album."
   ]
  },
  {
   "cell_type": "code",
   "execution_count": 55,
   "metadata": {},
   "outputs": [
    {
     "data": {
      "text/html": [
       "<div>\n",
       "<style scoped>\n",
       "    .dataframe tbody tr th:only-of-type {\n",
       "        vertical-align: middle;\n",
       "    }\n",
       "\n",
       "    .dataframe tbody tr th {\n",
       "        vertical-align: top;\n",
       "    }\n",
       "\n",
       "    .dataframe thead th {\n",
       "        text-align: right;\n",
       "    }\n",
       "</style>\n",
       "<table border=\"1\" class=\"dataframe\">\n",
       "  <thead>\n",
       "    <tr style=\"text-align: right;\">\n",
       "      <th></th>\n",
       "      <th>mean</th>\n",
       "      <th>sem</th>\n",
       "    </tr>\n",
       "    <tr>\n",
       "      <th>album_number</th>\n",
       "      <th></th>\n",
       "      <th></th>\n",
       "    </tr>\n",
       "  </thead>\n",
       "  <tbody>\n",
       "    <tr>\n",
       "      <th>0</th>\n",
       "      <td>7.303002</td>\n",
       "      <td>0.020686</td>\n",
       "    </tr>\n",
       "    <tr>\n",
       "      <th>1</th>\n",
       "      <td>7.038468</td>\n",
       "      <td>0.021327</td>\n",
       "    </tr>\n",
       "    <tr>\n",
       "      <th>2</th>\n",
       "      <td>7.044410</td>\n",
       "      <td>0.027617</td>\n",
       "    </tr>\n",
       "    <tr>\n",
       "      <th>3</th>\n",
       "      <td>7.040662</td>\n",
       "      <td>0.036123</td>\n",
       "    </tr>\n",
       "  </tbody>\n",
       "</table>\n",
       "</div>"
      ],
      "text/plain": [
       "                  mean       sem\n",
       "album_number                    \n",
       "0             7.303002  0.020686\n",
       "1             7.038468  0.021327\n",
       "2             7.044410  0.027617\n",
       "3             7.040662  0.036123"
      ]
     },
     "metadata": {},
     "output_type": "display_data"
    },
    {
     "data": {
      "text/plain": [
       "Ttest_indResult(statistic=0.16816255372281083, pvalue=0.8664615688260937)"
      ]
     },
     "execution_count": 55,
     "metadata": {},
     "output_type": "execute_result"
    }
   ],
   "source": [
    "# 7.2\n",
    "ones, twos = two_ormore.loc[two_ormore['album_number'].isin([1,2])].groupby('album_number')['score'].apply(list)\n",
    "display(two_ormore.groupby('album_number')['score'].agg(['mean', 'sem']).loc[[0, 1, 2, 3, ]])\n",
    "\n",
    "ttest_ind(twos, ones)"
   ]
  },
  {
   "cell_type": "markdown",
   "metadata": {},
   "source": [
    "**7.3 —** No, because the average score of the albums after the first seems to become stable."
   ]
  },
  {
   "cell_type": "markdown",
   "metadata": {},
   "source": [
    "**Task 8 (Eureka — 14 pts)**\n",
    "\n",
    "Your boss, *Signor Piccardi*, proposes that you carry out a simulation to make things clearer. Assuming that:\n",
    "\n",
    "\n",
    "- Each band $i$ has a \"talent\" $\\mu_i$ , which is uniformally distributed between 2 and 8, i.e., $\\mu_i \\sim U_{[2,8]}$.\n",
    "- When a band $i$ produces an album $j$, it has quality $s_j$. This score is normally distributed with mean $\\mu_i$ and standard deviation $1$, i.e., $s_j \\sim N(\\mu_i, 1)$\n",
    "- Talents are independent and identically distributed random variables.\n",
    " \n",
    "Carry out the following simulation:\n",
    "\n",
    "- Create 1000 hypothetical bands with intrinsic talents $\\mu_i \\sim U_{[2,8]}$ for $i \\in [1,1000]$.\n",
    "- Have each hypothetical band create a hypothetical album.\n",
    "- Discard all bands whose albums received a score smaller than 6.\n",
    "- For each of the remaining bands, create two additional albums.\n",
    "\n",
    "Analyzing the scores obtained in this simulation, provide a coherent explanation for the scores obtained in Task 7.2. \n",
    "\n",
    "--- \n",
    "\n",
    "**Hint:** You can use numpy to sample random variables (e.g. [numpy.random.normal](https://numpy.org/doc/stable/reference/random/generated/numpy.random.normal.html))"
   ]
  },
  {
   "cell_type": "code",
   "execution_count": 56,
   "metadata": {},
   "outputs": [
    {
     "name": "stdout",
     "output_type": "stream",
     "text": [
      "1st albums: 7.226361076373319\n",
      "2nd albums: 6.787043083747212\n",
      "3rd albums: 6.843123222213465\n"
     ]
    }
   ],
   "source": [
    "import numpy.random as rdm\n",
    "\n",
    "talents = rdm.uniform(2, 8, 1000)\n",
    "\n",
    "albums1 = np.array([rdm.normal(talent, 1) for talent in talents])\n",
    "\n",
    "# filtered bands\n",
    "talents_filtered = talents[albums1 >= 6] \n",
    "albums_filtered = albums1[albums1 >= 6]\n",
    "\n",
    "albums2 = np.array([rdm.normal(talent, 1) for talent in talents_filtered])\n",
    "albums3 = np.array([rdm.normal(talent, 1) for talent in talents_filtered])\n",
    "\n",
    "print(\"1st albums:\", albums_filtered.mean())\n",
    "print(\"2nd albums:\", albums2.mean())\n",
    "print(\"3rd albums:\", albums3.mean())"
   ]
  },
  {
   "cell_type": "markdown",
   "metadata": {},
   "source": [
    "Both in the simulation and in the real data analyzed, it is likely we are observing an instance of **regression to the mean.** \n",
    "\n",
    "- In the pitchfork data: bands that produce a very good first album are more likely to be reviewed by a magazine like Pitchfork —If no one knows the band, and the album is not good, why would they review it? However, it is likely that the album was very good partially due to chance. In that context, the second and third albuns of the band are less likely to be as good.\n",
    "\n",
    "- In the simulation: we reproduce this same dynamic. We discard bands that performed poorly, but we will definitely keep some bands that performed well despite having low intrinsic talent (due to sheer chance). When we create additional albums for these bands, we see that the score decreases."
   ]
  }
 ],
 "metadata": {
  "kernelspec": {
   "display_name": "Python 3",
   "language": "python",
   "name": "python3"
  },
  "language_info": {
   "codemirror_mode": {
    "name": "ipython",
    "version": 3
   },
   "file_extension": ".py",
   "mimetype": "text/x-python",
   "name": "python",
   "nbconvert_exporter": "python",
   "pygments_lexer": "ipython3",
   "version": "3.8.5"
  },
  "pycharm": {
   "stem_cell": {
    "cell_type": "raw",
    "metadata": {
     "collapsed": false
    },
    "source": []
   }
  }
 },
 "nbformat": 4,
 "nbformat_minor": 1
}